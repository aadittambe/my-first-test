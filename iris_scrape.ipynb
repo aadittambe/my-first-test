{
  "cells": [
    {
      "cell_type": "markdown",
      "metadata": {
        "id": "yBIY3z8rBNB3"
      },
      "source": [
        "# First Github Scraper\n",
        "\n",
        "This notebook is a simplified version of the IRE tutorial “Web scraping with Python.” Consult [the original material](https://github.com/ireapps/teaching-guide-python-scraping) to learn more about how to write a web scraper."
      ]
    },
    {
      "cell_type": "code",
      "execution_count": 1,
      "metadata": {
        "id": "83w7c-NEBNB5"
      },
      "outputs": [],
      "source": [
        "import requests\n",
        "import bs4"
      ]
    },
    {
      "cell_type": "code",
      "execution_count": 2,
      "metadata": {
        "id": "WhBtM_PuBNB6"
      },
      "outputs": [],
      "source": [
        "URL = 'http://www.dllr.state.md.us/employment/warn.shtml'"
      ]
    },
    {
      "cell_type": "code",
      "execution_count": 3,
      "metadata": {
        "id": "MRPLi0ozBNB6"
      },
      "outputs": [],
      "source": [
        "warn_page = requests.get(URL)"
      ]
    },
    {
      "cell_type": "code",
      "execution_count": 4,
      "metadata": {
        "id": "iMEM9vKEBNB7"
      },
      "outputs": [],
      "source": [
        "soup = bs4.BeautifulSoup(warn_page.text, 'html.parser')"
      ]
    },
    {
      "cell_type": "code",
      "execution_count": 5,
      "metadata": {
        "id": "1lEafLRCBNB7"
      },
      "outputs": [],
      "source": [
        "table = soup.find('table')"
      ]
    },
    {
      "cell_type": "code",
      "execution_count": 6,
      "metadata": {
        "id": "sS_BKIeSBNB7"
      },
      "outputs": [],
      "source": [
        "rows = table.find_all('tr')"
      ]
    },
    {
      "cell_type": "code",
      "execution_count": 7,
      "metadata": {
        "id": "6J4sQZ1XBNB7"
      },
      "outputs": [],
      "source": [
        "import csv"
      ]
    },
    {
      "cell_type": "code",
      "execution_count": 8,
      "metadata": {
        "id": "-mrpbBBaBNB7"
      },
      "outputs": [],
      "source": [
        "HEADERS = [\n",
        "    'warn_date',\n",
        "    'naics_code',\n",
        "    'biz',\n",
        "    'address',\n",
        "    'wia_code',\n",
        "    'total_employees',\n",
        "    'effective_date',\n",
        "    'type_code'\n",
        "]"
      ]
    },
    {
      "cell_type": "code",
      "execution_count": 9,
      "metadata": {
        "id": "abjju9b8BNB8"
      },
      "outputs": [],
      "source": [
        "with open('warn-data.csv', 'w', newline='') as outfile:\n",
        "    writer = csv.writer(outfile)\n",
        "    writer.writerow(HEADERS)\n",
        "    for row in rows[1:]:\n",
        "        cells = row.find_all('td')\n",
        "        values = [c.text.strip() for c in cells]\n",
        "        writer.writerow(values)"
      ]
    }
  ],
  "metadata": {
    "kernelspec": {
      "display_name": "Python 3 (ipykernel)",
      "language": "python",
      "name": "python3"
    },
    "language_info": {
      "codemirror_mode": {
        "name": "ipython",
        "version": 3
      },
      "file_extension": ".py",
      "mimetype": "text/x-python",
      "name": "python",
      "nbconvert_exporter": "python",
      "pygments_lexer": "ipython3",
      "version": "3.9.9"
    },
    "colab": {
      "provenance": []
    }
  },
  "nbformat": 4,
  "nbformat_minor": 0
}